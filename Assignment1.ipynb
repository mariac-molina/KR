{
 "cells": [
  {
   "cell_type": "code",
   "execution_count": 1,
   "metadata": {},
   "outputs": [
    {
     "ename": "ModuleNotFoundError",
     "evalue": "No module named 'ipythonblocks'",
     "output_type": "error",
     "traceback": [
      "\u001b[0;31m---------------------------------------------------------------------------\u001b[0m",
      "\u001b[0;31mModuleNotFoundError\u001b[0m                       Traceback (most recent call last)",
      "\u001b[0;32m<ipython-input-1-742ba16c3ab1>\u001b[0m in \u001b[0;36m<module>\u001b[0;34m\u001b[0m\n\u001b[0;32m----> 1\u001b[0;31m \u001b[0;32mfrom\u001b[0m \u001b[0magents\u001b[0m \u001b[0;32mimport\u001b[0m \u001b[0;34m*\u001b[0m\u001b[0;34m\u001b[0m\u001b[0;34m\u001b[0m\u001b[0m\n\u001b[0m",
      "\u001b[0;32m~/Documents/Uni/CIT/S1/KR/aima-python/agents.py\u001b[0m in \u001b[0;36m<module>\u001b[0;34m\u001b[0m\n\u001b[1;32m     38\u001b[0m \u001b[0;32mfrom\u001b[0m \u001b[0mutils\u001b[0m \u001b[0;32mimport\u001b[0m \u001b[0mdistance_squared\u001b[0m\u001b[0;34m,\u001b[0m \u001b[0mturn_heading\u001b[0m\u001b[0;34m\u001b[0m\u001b[0;34m\u001b[0m\u001b[0m\n\u001b[1;32m     39\u001b[0m \u001b[0;32mfrom\u001b[0m \u001b[0mstatistics\u001b[0m \u001b[0;32mimport\u001b[0m \u001b[0mmean\u001b[0m\u001b[0;34m\u001b[0m\u001b[0;34m\u001b[0m\u001b[0m\n\u001b[0;32m---> 40\u001b[0;31m \u001b[0;32mfrom\u001b[0m \u001b[0mipythonblocks\u001b[0m \u001b[0;32mimport\u001b[0m \u001b[0mBlockGrid\u001b[0m\u001b[0;34m\u001b[0m\u001b[0;34m\u001b[0m\u001b[0m\n\u001b[0m\u001b[1;32m     41\u001b[0m \u001b[0;32mfrom\u001b[0m \u001b[0mIPython\u001b[0m\u001b[0;34m.\u001b[0m\u001b[0mdisplay\u001b[0m \u001b[0;32mimport\u001b[0m \u001b[0mHTML\u001b[0m\u001b[0;34m,\u001b[0m \u001b[0mdisplay\u001b[0m\u001b[0;34m\u001b[0m\u001b[0;34m\u001b[0m\u001b[0m\n\u001b[1;32m     42\u001b[0m \u001b[0;32mfrom\u001b[0m \u001b[0mtime\u001b[0m \u001b[0;32mimport\u001b[0m \u001b[0msleep\u001b[0m\u001b[0;34m\u001b[0m\u001b[0;34m\u001b[0m\u001b[0m\n",
      "\u001b[0;31mModuleNotFoundError\u001b[0m: No module named 'ipythonblocks'"
     ]
    }
   ],
   "source": [
    "from agents import *"
   ]
  },
  {
   "cell_type": "code",
   "execution_count": 20,
   "metadata": {},
   "outputs": [],
   "source": [
    "class ReflexPacmanAgent(Agent):\n",
    "    \n",
    "    def move_down(self, success=True):\n",
    "        if not success:\n",
    "            return\n",
    "        self.location = (self.location[0] + 1, self.location[1])\n",
    "    \n",
    "    def move_up(self, success=True):\n",
    "        if not success:\n",
    "            return\n",
    "        self.location = (self.location[0] - 1, self.location[1])\n",
    "        \n",
    "    def move_right(self, success=True):\n",
    "        if not success:\n",
    "            return\n",
    "        self.location = (self.location[0], self.location[1] + 1)\n",
    "    \n",
    "    def move_left(self, success=True):\n",
    "        if not success:\n",
    "            return\n",
    "        self.location = (self.location[0], self.location[1] - 1)\n",
    "    \n",
    "    def pickup(self, thing):\n",
    "        if isinstance(thing, Coin):\n",
    "            return True\n",
    "        return False\n",
    "    \n",
    "    def scare(self, thing):\n",
    "        if isinstance(thing, Ghost):\n",
    "            return True\n",
    "        return False\n",
    "    \n",
    "def program(percepts):\n",
    "    for per in percepts: \n",
    "        if isinstance(per, Coin):\n",
    "            return 'pickup'\n",
    "        elif isinstance(per, Ghost):\n",
    "            return 'scare'\n",
    "        if isinstance(per, Bump): \n",
    "            print(\" Agent bumped \")\n",
    "            return random.choice(['moveright', 'moveleft', 'moveup', 'movedown'])\n",
    "        else:\n",
    "            return random.choice(['moveright', 'moveleft', 'moveup', 'movedown'])"
   ]
  },
  {
   "cell_type": "code",
   "execution_count": 21,
   "metadata": {},
   "outputs": [],
   "source": [
    "class Coin(Thing):\n",
    "    pass\n",
    "\n",
    "class Obstacle(Thing):\n",
    "    pass\n",
    "\n",
    "class Ghost(Thing):\n",
    "    pass\n",
    "\n",
    "class Boo(Thing):\n",
    "    pass\n",
    "\n",
    "class MsPacman(Thing):\n",
    "    pass\n",
    "\n",
    "class GameMap(GraphicEnvironment):\n",
    "    \n",
    "    def __init__(self, agent_program, width=3, height=3, color={}):\n",
    "        super().__init__(width, height, color)\n",
    "        self.init_world(agent_program)\n",
    "\n",
    "    def init_world(self, agent_program):\n",
    "        ghost_prob = 0.1\n",
    "        obstacle_prob = 0.2\n",
    "        coin_prob = 0.7\n",
    "        \n",
    "        msPac = MsPacman()\n",
    "        \n",
    "        self.add_thing(ReflexPacmanAgent(agent_program), (self.x_start, self.y_start))\n",
    "        self.add_thing(msPac, [self.x_end - 1, self.y_end - 1])\n",
    "\n",
    "        for x in range(self.x_start, self.x_end):\n",
    "            for y in range(self.y_start, self.y_end):\n",
    "                if random.random() < obstacle_prob:\n",
    "                    if len(self.list_things_at((x,y))) > 0 or (x == 0 and y == 0):\n",
    "                        continue\n",
    "                    else:\n",
    "                        self.add_thing(Obstacle(), (x, y), True)\n",
    "        \n",
    "        for x in range(self.x_start, self.x_end):\n",
    "            for y in range(self.y_start, self.y_end):\n",
    "                if random.random() < ghost_prob:\n",
    "                    if len(self.list_things_at((x,y))) > 0 or (x == 0 and y == 0):\n",
    "                        continue\n",
    "                    else:\n",
    "                        self.add_thing(Ghost(), (x, y), True)\n",
    "              \n",
    "        for x in range(self.x_start, self.x_end):\n",
    "            for y in range(self.y_start, self.y_end):\n",
    "                if random.random() < coin_prob:\n",
    "                    if len(self.list_things_at((x,y))) > 0 or (x == 0 and y == 0):\n",
    "                        continue\n",
    "                    else:\n",
    "                        self.add_thing(Coin(), (x, y), True)\n",
    "              \n",
    "    def get_world(self):\n",
    "        \"\"\"Return the items in the world\"\"\"\n",
    "        result = []\n",
    "        x_start, y_start = (0, 0)\n",
    "        x_end, y_end = self.width, self.height\n",
    "\n",
    "        for x in range(x_start, x_end):\n",
    "            row = []\n",
    "            for y in range(y_start, y_end):\n",
    "                row.append(self.list_things_at((x, y)))\n",
    "            result.append(row)\n",
    "        return result\n",
    "        \n",
    "    def percept(self, agent):\n",
    "        '''return a list of things that are in our agent's location'''\n",
    "        things = self.list_things_at(agent.location)\n",
    "        return things\n",
    "    \n",
    "    def execute_action(self, agent, action):\n",
    "        '''changes the state of the environment based on what the agent does.'''\n",
    "        if action == 'moveright':\n",
    "            agent.move_right()\n",
    "        elif action == 'moveleft':\n",
    "            agent.move_left()\n",
    "        elif action == 'moveup':\n",
    "            agent.move_up()\n",
    "        elif action == 'movedown':\n",
    "            agent.move_down()\n",
    "        elif action == 'pickup':\n",
    "            items = self.list_things_at(agent.location, tclass=Coin)\n",
    "            if len(items) != 0:\n",
    "                if agent.pickup(items[0]):\n",
    "                    print('{} picked up {} at location: {}'\n",
    "                          .format(str(agent)[1:-1], str(items[0])[1:-1], agent.location))\n",
    "                    self.delete_thing(items[0])\n",
    "        elif action == 'scare':\n",
    "            items = self.list_things_at(agent.location, tclass=Ghost)\n",
    "            if len(items) != 0:\n",
    "                if agent.scare(items[0]):\n",
    "                    print('{} scared {} at location: {}'\n",
    "                          .format(str(agent)[1:-1], str(items[0])[1:-1], agent.location))\n",
    "                    self.delete_thing(items[0])\n",
    "                    \n",
    "    def is_done(self):\n",
    "        ''' is done when PacMan reunites with Ms. PacMan or PacMan is deas'''\n",
    "        reunited = any(self.some_things_at(agent.location, tclass=MsPacman) for agent in self.agents)\n",
    "        dead_pacman = not any(agent.is_alive() for agent in self.agents)\n",
    "        return reunited or dead_pacman"
   ]
  },
  {
   "cell_type": "code",
   "execution_count": 23,
   "metadata": {},
   "outputs": [
    {
     "name": "stdout",
     "output_type": "stream",
     "text": [
      "{}\n"
     ]
    }
   ],
   "source": [
    "from ipythonblocks import BlockGrid\n",
    "\n",
    "\n",
    "gameEnv = GameMap(program,color={\"ReflexPacmanAgent\" : (255, 255, 0),\n",
    "       \"Ghost\": (51, 204, 255),\n",
    "       \"Obstacle\": (0,0,0),\n",
    "       \"Coin\": (255, 153, 51),\n",
    "       \"MsPacman\": (255, 153, 255)\n",
    "      })\n",
    "\n",
    "grid = BlockGrid(gameEnv.width, gameEnv.height, fill=(230, 230, 230))\n",
    "\n",
    "def draw_grid(world):\n",
    "    global grid\n",
    "    grid[:] = (230, 230, 230)\n",
    "    for x in range(0, len(world)):\n",
    "        for y in range(0, len(world[x])):\n",
    "            if len(world[x][y]):\n",
    "                grid[y, x] = color[world[x][y][-1].__class__.__name__]\n",
    "\n",
    "def step():\n",
    "    global grid, gameEnv\n",
    "    draw_grid(gameEnv.get_world())\n",
    "    grid.show()\n",
    "    gameEnv.run(10)"
   ]
  },
  {
   "cell_type": "code",
   "execution_count": 24,
   "metadata": {},
   "outputs": [
    {
     "ename": "NameError",
     "evalue": "name 'color' is not defined",
     "output_type": "error",
     "traceback": [
      "\u001b[0;31m---------------------------------------------------------------------------\u001b[0m",
      "\u001b[0;31mNameError\u001b[0m                                 Traceback (most recent call last)",
      "\u001b[0;32m<ipython-input-24-241028386f35>\u001b[0m in \u001b[0;36m<module>\u001b[0;34m()\u001b[0m\n\u001b[0;32m----> 1\u001b[0;31m \u001b[0mstep\u001b[0m\u001b[0;34m(\u001b[0m\u001b[0;34m)\u001b[0m\u001b[0;34m\u001b[0m\u001b[0m\n\u001b[0m",
      "\u001b[0;32m<ipython-input-23-67e1ee8ef826>\u001b[0m in \u001b[0;36mstep\u001b[0;34m()\u001b[0m\n\u001b[1;32m     21\u001b[0m \u001b[0;32mdef\u001b[0m \u001b[0mstep\u001b[0m\u001b[0;34m(\u001b[0m\u001b[0;34m)\u001b[0m\u001b[0;34m:\u001b[0m\u001b[0;34m\u001b[0m\u001b[0m\n\u001b[1;32m     22\u001b[0m     \u001b[0;32mglobal\u001b[0m \u001b[0mgrid\u001b[0m\u001b[0;34m,\u001b[0m \u001b[0mgameEnv\u001b[0m\u001b[0;34m\u001b[0m\u001b[0m\n\u001b[0;32m---> 23\u001b[0;31m     \u001b[0mdraw_grid\u001b[0m\u001b[0;34m(\u001b[0m\u001b[0mgameEnv\u001b[0m\u001b[0;34m.\u001b[0m\u001b[0mget_world\u001b[0m\u001b[0;34m(\u001b[0m\u001b[0;34m)\u001b[0m\u001b[0;34m)\u001b[0m\u001b[0;34m\u001b[0m\u001b[0m\n\u001b[0m\u001b[1;32m     24\u001b[0m     \u001b[0mgrid\u001b[0m\u001b[0;34m.\u001b[0m\u001b[0mshow\u001b[0m\u001b[0;34m(\u001b[0m\u001b[0;34m)\u001b[0m\u001b[0;34m\u001b[0m\u001b[0m\n\u001b[1;32m     25\u001b[0m     \u001b[0mgameEnv\u001b[0m\u001b[0;34m.\u001b[0m\u001b[0mrun\u001b[0m\u001b[0;34m(\u001b[0m\u001b[0;36m10\u001b[0m\u001b[0;34m)\u001b[0m\u001b[0;34m\u001b[0m\u001b[0m\n",
      "\u001b[0;32m<ipython-input-23-67e1ee8ef826>\u001b[0m in \u001b[0;36mdraw_grid\u001b[0;34m(world)\u001b[0m\n\u001b[1;32m     17\u001b[0m         \u001b[0;32mfor\u001b[0m \u001b[0my\u001b[0m \u001b[0;32min\u001b[0m \u001b[0mrange\u001b[0m\u001b[0;34m(\u001b[0m\u001b[0;36m0\u001b[0m\u001b[0;34m,\u001b[0m \u001b[0mlen\u001b[0m\u001b[0;34m(\u001b[0m\u001b[0mworld\u001b[0m\u001b[0;34m[\u001b[0m\u001b[0mx\u001b[0m\u001b[0;34m]\u001b[0m\u001b[0;34m)\u001b[0m\u001b[0;34m)\u001b[0m\u001b[0;34m:\u001b[0m\u001b[0;34m\u001b[0m\u001b[0m\n\u001b[1;32m     18\u001b[0m             \u001b[0;32mif\u001b[0m \u001b[0mlen\u001b[0m\u001b[0;34m(\u001b[0m\u001b[0mworld\u001b[0m\u001b[0;34m[\u001b[0m\u001b[0mx\u001b[0m\u001b[0;34m]\u001b[0m\u001b[0;34m[\u001b[0m\u001b[0my\u001b[0m\u001b[0;34m]\u001b[0m\u001b[0;34m)\u001b[0m\u001b[0;34m:\u001b[0m\u001b[0;34m\u001b[0m\u001b[0m\n\u001b[0;32m---> 19\u001b[0;31m                 \u001b[0mgrid\u001b[0m\u001b[0;34m[\u001b[0m\u001b[0my\u001b[0m\u001b[0;34m,\u001b[0m \u001b[0mx\u001b[0m\u001b[0;34m]\u001b[0m \u001b[0;34m=\u001b[0m \u001b[0mcolor\u001b[0m\u001b[0;34m[\u001b[0m\u001b[0mworld\u001b[0m\u001b[0;34m[\u001b[0m\u001b[0mx\u001b[0m\u001b[0;34m]\u001b[0m\u001b[0;34m[\u001b[0m\u001b[0my\u001b[0m\u001b[0;34m]\u001b[0m\u001b[0;34m[\u001b[0m\u001b[0;34m-\u001b[0m\u001b[0;36m1\u001b[0m\u001b[0;34m]\u001b[0m\u001b[0;34m.\u001b[0m\u001b[0m__class__\u001b[0m\u001b[0;34m.\u001b[0m\u001b[0m__name__\u001b[0m\u001b[0;34m]\u001b[0m\u001b[0;34m\u001b[0m\u001b[0m\n\u001b[0m\u001b[1;32m     20\u001b[0m \u001b[0;34m\u001b[0m\u001b[0m\n\u001b[1;32m     21\u001b[0m \u001b[0;32mdef\u001b[0m \u001b[0mstep\u001b[0m\u001b[0;34m(\u001b[0m\u001b[0;34m)\u001b[0m\u001b[0;34m:\u001b[0m\u001b[0;34m\u001b[0m\u001b[0m\n",
      "\u001b[0;31mNameError\u001b[0m: name 'color' is not defined"
     ]
    }
   ],
   "source": [
    "step()"
   ]
  },
  {
   "cell_type": "markdown",
   "metadata": {},
   "source": [
    "### random reflex agent :\n",
    "#### P: maximize gold, minimize movement\n",
    "#### E: N x N grid, obstacles,  gold and obstacle distribution unknown but actions are deterministic and env. static\n",
    "#### A: move right, left, forward, backwards, climb up, climb down, collect gold, (kill ghost) \n",
    "#### S: agent cant perceive its location and if there is gold or not"
   ]
  },
  {
   "cell_type": "code",
   "execution_count": null,
   "metadata": {
    "collapsed": true
   },
   "outputs": [],
   "source": [
    "# TODO : implement reflex agent"
   ]
  },
  {
   "cell_type": "markdown",
   "metadata": {},
   "source": [
    "### model based agent :\n",
    "#### P: maximize gold, minimize movement\n",
    "#### E: N x N grid, obstacles,  gold and obstacle distribution unknown but actions are deterministic and env. static\n",
    "#### A: move right, left, forward, backwards, climb up, climb down, collect gold, (kill ghost) \n",
    "#### S: agent cant perceive its location and if there is gold or not"
   ]
  },
  {
   "cell_type": "code",
   "execution_count": null,
   "metadata": {
    "collapsed": true
   },
   "outputs": [],
   "source": [
    "# TODO : implement model agent"
   ]
  },
  {
   "cell_type": "markdown",
   "metadata": {},
   "source": [
    "### utility based agent :\n",
    "#### P: maximize gold, minimize movement\n",
    "#### E: N x N grid, obstacles,  gold and obstacle distribution unknown but actions are deterministic and env. static\n",
    "#### A: move right, left, forward, backwards, climb up, climb down, collect gold, (kill ghost) \n",
    "#### S: agent cant perceive its location and if there is gold or not"
   ]
  },
  {
   "cell_type": "code",
   "execution_count": null,
   "metadata": {
    "collapsed": true
   },
   "outputs": [],
   "source": [
    "# TODO : implement utility agent"
   ]
  }
 ],
 "metadata": {
  "kernelspec": {
   "display_name": "Python 3",
   "language": "python",
   "name": "python3"
  },
  "language_info": {
   "codemirror_mode": {
    "name": "ipython",
    "version": 3
   },
   "file_extension": ".py",
   "mimetype": "text/x-python",
   "name": "python",
   "nbconvert_exporter": "python",
   "pygments_lexer": "ipython3",
   "version": "3.7.4"
  }
 },
 "nbformat": 4,
 "nbformat_minor": 2
}
