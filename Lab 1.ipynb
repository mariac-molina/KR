{
 "cells": [
  {
   "cell_type": "code",
   "execution_count": 2,
   "metadata": {
    "collapsed": true
   },
   "outputs": [],
   "source": [
    "from agents import *"
   ]
  },
  {
   "cell_type": "code",
   "execution_count": 2,
   "metadata": {
    "collapsed": true
   },
   "outputs": [],
   "source": [
    "class PlantRobot(Agent):\n",
    "    def water(self, thing):\n",
    "        print(\"Robo: Watered plant at {}.\".format(self.location))\n",
    "            \n",
    "    def pickPlant(self, thing):\n",
    "        print(\"Robo: Picked plant at {}.\".format( self.location))\n",
    "    \n",
    "    def pickWeeds(self, thing):\n",
    "        print(\"Robo: Picked weeds at {}.\".format( self.location))"
   ]
  },
  {
   "cell_type": "code",
   "execution_count": 3,
   "metadata": {
    "collapsed": false
   },
   "outputs": [
    {
     "name": "stdout",
     "output_type": "stream",
     "text": [
      "Can't find a valid program for PlantRobot, falling back to default.\n"
     ]
    }
   ],
   "source": [
    "robo = PlantRobot()"
   ]
  },
  {
   "cell_type": "code",
   "execution_count": 4,
   "metadata": {
    "collapsed": false
   },
   "outputs": [
    {
     "name": "stdout",
     "output_type": "stream",
     "text": [
      "True\n"
     ]
    }
   ],
   "source": [
    "print(robo.alive)"
   ]
  },
  {
   "cell_type": "code",
   "execution_count": 5,
   "metadata": {
    "collapsed": true
   },
   "outputs": [],
   "source": [
    "class Plant(Thing):\n",
    "    pass\n",
    "\n",
    "class Weeds(Thing):\n",
    "    pass\n",
    "\n",
    "class Garden(Environment):\n",
    "    def percept(self, agent):\n",
    "        '''return a list of things that are in our agent's location'''\n",
    "        things = self.list_things_at(agent.location)\n",
    "        return things\n",
    "    \n",
    "    def execute_action(self, agent, action):\n",
    "        '''changes the state of the environment based on what the agent does.'''\n",
    "        if action == \"move down\":\n",
    "            print('{} decided to {} at location: {}'.format(str(agent)[1:-1], action, agent.location))\n",
    "            agent.movedown()\n",
    "        elif action == \"pickWeeds\":\n",
    "            items = self.list_things_at(agent.location, tclass=Weeds)\n",
    "            if len(items) != 0:\n",
    "                if agent.pickWeeds(items[0]): #Have the dog eat the first item\n",
    "                    print('{} picked weeds {} at location: {}'\n",
    "                          .format(str(agent)[1:-1], str(items[0])[1:-1], agent.location))\n",
    "                    self.delete_thing(items[0]) #Delete it from the Park after.\n",
    "        elif action == \"pickPlant\":\n",
    "            items = self.list_things_at(agent.location, tclass=Plant)\n",
    "            if len(items) != 0:\n",
    "                if agent.pickPlant(items[0]): #Have the dog drink the first item\n",
    "                    print('{} picked plant {} at location: {}'\n",
    "                          .format(str(agent)[1:-1], str(items[0])[1:-1], agent.location))\n",
    "                    self.delete_thing(items[0]) #Delete it from the Park after.\n",
    "\n",
    "    def is_done(self):\n",
    "        '''By default, we're done when we can't find a live agent, \n",
    "        but to prevent killing our cute dog, we will stop before itself - when there is no more food or water'''\n",
    "        no_greens = not any(isinstance(thing, Plant) or isinstance(thing, Weeds) for thing in self.things)\n",
    "        dead_agents = not any(agent.is_alive() for agent in self.agents)\n",
    "        return dead_agents or no_greens"
   ]
  },
  {
   "cell_type": "code",
   "execution_count": 10,
   "metadata": {
    "collapsed": true
   },
   "outputs": [],
   "source": [
    "class PlantRobot(Agent):\n",
    "    location = 1\n",
    "    \n",
    "    def movedown(self):\n",
    "        self.location += 1\n",
    "        \n",
    "    def pickWeeds(self, thing):\n",
    "        '''returns True upon success or False otherwise'''\n",
    "        if isinstance(thing, Weeds):\n",
    "            return True\n",
    "        return False\n",
    "    \n",
    "    def pickPlant(self, thing):\n",
    "        ''' returns True upon success or False otherwise'''\n",
    "        if isinstance(thing, Plant):\n",
    "            return True\n",
    "        return False"
   ]
  },
  {
   "cell_type": "code",
   "execution_count": 11,
   "metadata": {
    "collapsed": true
   },
   "outputs": [],
   "source": [
    "def program(percepts):\n",
    "    '''Returns an action based on the dog's percepts'''\n",
    "    for p in percepts:\n",
    "        if isinstance(p, Plant):\n",
    "            return 'pickPlant'\n",
    "        elif isinstance(p, Weeds):\n",
    "            return 'pickWeeds'\n",
    "    return 'move down'"
   ]
  },
  {
   "cell_type": "code",
   "execution_count": 12,
   "metadata": {
    "collapsed": false
   },
   "outputs": [
    {
     "name": "stdout",
     "output_type": "stream",
     "text": [
      "PlantRobot decided to move down at location: 1\n",
      "PlantRobot decided to move down at location: 2\n",
      "PlantRobot decided to move down at location: 3\n",
      "PlantRobot decided to move down at location: 4\n",
      "PlantRobot picked plant Plant at location: 5\n"
     ]
    }
   ],
   "source": [
    "garden = Garden()\n",
    "robo = PlantRobot(program)\n",
    "rose = Plant()\n",
    "shroom = Weeds()\n",
    "garden.add_thing(robo, 1)\n",
    "garden.add_thing(rose, 5)\n",
    "garden.add_thing(shroom, 7)\n",
    "\n",
    "garden.run(5)"
   ]
  },
  {
   "cell_type": "code",
   "execution_count": 13,
   "metadata": {
    "collapsed": false
   },
   "outputs": [
    {
     "name": "stdout",
     "output_type": "stream",
     "text": [
      "PlantRobot decided to move down at location: 5\n",
      "PlantRobot decided to move down at location: 6\n",
      "PlantRobot picked weeds Weeds at location: 7\n"
     ]
    }
   ],
   "source": [
    "garden.run(5)"
   ]
  },
  {
   "cell_type": "code",
   "execution_count": 3,
   "metadata": {
    "collapsed": false
   },
   "outputs": [],
   "source": [
    "class Dirt(Thing):\n",
    "    pass"
   ]
  },
  {
   "cell_type": "code",
   "execution_count": 6,
   "metadata": {
    "collapsed": false
   },
   "outputs": [
    {
     "data": {
      "text/html": [
       "<style type=\"text/css\">table.blockgrid {border: none;} .blockgrid tr {border: none;} .blockgrid td {padding: 0px;} #blocks5e783ea1-fe7a-4386-92e4-bd05223e3a9d td {border: 1px solid white;}</style><table id=\"blocks5e783ea1-fe7a-4386-92e4-bd05223e3a9d\" class=\"blockgrid\"><tbody><tr><td title=\"Index: [0, 0]&#10;Color: (150, 140, 150)\" style=\"width: 20px; height: 20px;background-color: rgb(150, 140, 150);\"></td><td title=\"Index: [0, 1]&#10;Color: (150, 140, 150)\" style=\"width: 20px; height: 20px;background-color: rgb(150, 140, 150);\"></td><td title=\"Index: [0, 2]&#10;Color: (150, 140, 150)\" style=\"width: 20px; height: 20px;background-color: rgb(150, 140, 150);\"></td></tr><tr><td title=\"Index: [1, 0]&#10;Color: (200, 200, 200)\" style=\"width: 20px; height: 20px;background-color: rgb(200, 200, 200);\"></td><td title=\"Index: [1, 1]&#10;Color: (200, 200, 200)\" style=\"width: 20px; height: 20px;background-color: rgb(200, 200, 200);\"></td><td title=\"Index: [1, 2]&#10;Color: (200, 200, 200)\" style=\"width: 20px; height: 20px;background-color: rgb(200, 200, 200);\"></td></tr><tr><td title=\"Index: [2, 0]&#10;Color: (200, 200, 200)\" style=\"width: 20px; height: 20px;background-color: rgb(200, 200, 200);\"></td><td title=\"Index: [2, 1]&#10;Color: (200, 200, 200)\" style=\"width: 20px; height: 20px;background-color: rgb(200, 200, 200);\"></td><td title=\"Index: [2, 2]&#10;Color: (200, 200, 200)\" style=\"width: 20px; height: 20px;background-color: rgb(200, 200, 200);\"></td></tr></tbody></table>"
      ],
      "text/plain": [
       "<IPython.core.display.HTML object>"
      ]
     },
     "metadata": {},
     "output_type": "display_data"
    },
    {
     "data": {
      "text/html": [],
      "text/plain": [
       "<IPython.core.display.HTML object>"
      ]
     },
     "metadata": {},
     "output_type": "display_data"
    },
    {
     "data": {
      "text/html": [
       "<style type=\"text/css\">table.blockgrid {border: none;} .blockgrid tr {border: none;} .blockgrid td {padding: 0px;} #blocksf1b00053-d134-4740-b3d0-f2adfd95c6a4 td {border: 1px solid white;}</style><table id=\"blocksf1b00053-d134-4740-b3d0-f2adfd95c6a4\" class=\"blockgrid\"><tbody><tr><td title=\"Index: [0, 0]&#10;Color: (150, 140, 150)\" style=\"width: 20px; height: 20px;background-color: rgb(150, 140, 150);\"></td><td title=\"Index: [0, 1]&#10;Color: (150, 140, 150)\" style=\"width: 20px; height: 20px;background-color: rgb(150, 140, 150);\"></td><td title=\"Index: [0, 2]&#10;Color: (150, 140, 150)\" style=\"width: 20px; height: 20px;background-color: rgb(150, 140, 150);\"></td></tr><tr><td title=\"Index: [1, 0]&#10;Color: (200, 200, 200)\" style=\"width: 20px; height: 20px;background-color: rgb(200, 200, 200);\"></td><td title=\"Index: [1, 1]&#10;Color: (200, 200, 200)\" style=\"width: 20px; height: 20px;background-color: rgb(200, 200, 200);\"></td><td title=\"Index: [1, 2]&#10;Color: (200, 200, 200)\" style=\"width: 20px; height: 20px;background-color: rgb(200, 200, 200);\"></td></tr><tr><td title=\"Index: [2, 0]&#10;Color: (200, 200, 200)\" style=\"width: 20px; height: 20px;background-color: rgb(200, 200, 200);\"></td><td title=\"Index: [2, 1]&#10;Color: (200, 200, 200)\" style=\"width: 20px; height: 20px;background-color: rgb(200, 200, 200);\"></td><td title=\"Index: [2, 2]&#10;Color: (200, 200, 200)\" style=\"width: 20px; height: 20px;background-color: rgb(200, 200, 200);\"></td></tr></tbody></table>"
      ],
      "text/plain": [
       "<IPython.core.display.HTML object>"
      ]
     },
     "metadata": {},
     "output_type": "display_data"
    }
   ],
   "source": [
    "vac = GraphicEnvironment(3,3, color={'Dirt':(150,140,150)})\n",
    "d1 = Dirt()\n",
    "d2 = Dirt()\n",
    "d3 = Dirt()\n",
    "vac.add_thing(d1, [0,0])\n",
    "vac.add_thing(d2, [1,0])\n",
    "vac.add_thing(d3, [2,0])\n",
    "vac.run(10)"
   ]
  },
  {
   "cell_type": "code",
   "execution_count": null,
   "metadata": {
    "collapsed": true
   },
   "outputs": [],
   "source": [
    "class vacuumEnv()"
   ]
  }
 ],
 "metadata": {
  "kernelspec": {
   "display_name": "Python 3",
   "language": "python",
   "name": "python3"
  },
  "language_info": {
   "codemirror_mode": {
    "name": "ipython",
    "version": 3
   },
   "file_extension": ".py",
   "mimetype": "text/x-python",
   "name": "python",
   "nbconvert_exporter": "python",
   "pygments_lexer": "ipython3",
   "version": "3.6.0"
  }
 },
 "nbformat": 4,
 "nbformat_minor": 2
}
