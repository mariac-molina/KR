{
 "cells": [
  {
   "cell_type": "markdown",
   "metadata": {},
   "source": [
    "# THE VACUUM WORLD"
   ]
  },
  {
   "cell_type": "markdown",
   "metadata": {},
   "source": [
    "## ..."
   ]
  },
  {
   "cell_type": "markdown",
   "metadata": {},
   "source": [
    "---\n",
    "<br>\n",
    "\n",
    "**2. Apply your chosen algorithm to compute an optimal sequence of actions for a 3x3 world whose initial state has dirt in the three top squares and the agent in the center.**"
   ]
  },
  {
   "cell_type": "code",
   "execution_count": 5,
   "metadata": {
    "collapsed": true
   },
   "outputs": [],
   "source": [
    "import sys\n",
    "sys.path.append('../..')\n",
    "import numpy as np\n",
    "\n",
    "from search import *\n",
    "from agents import *"
   ]
  },
  {
   "cell_type": "code",
   "execution_count": 6,
   "metadata": {
    "collapsed": true
   },
   "outputs": [],
   "source": [
    "class P(Problem):\n",
    "    def __init__(self, initial, goal=None):\n",
    "        self.initial = initial\n",
    "        self.goal = goal\n",
    "\n",
    "    def actions(self, state):\n",
    "        action_list = ['suck', 'left', 'right', 'up', 'down']\n",
    "        location = state[1]\n",
    "        dim = np.sqrt(len(state[0])).astype(int)\n",
    "        state = np.array(state[0]).reshape(dim,dim)\n",
    "        \n",
    "        if location[0] == 1: action_list.remove('up')\n",
    "        if location[0] == state.shape[0]: action_list.remove('down')\n",
    "        if location[1] == 1: action_list.remove('left')\n",
    "        if location[1] == state.shape[1]: action_list.remove('right')\n",
    "        \n",
    "        loc_row, loc_col = location[0], location[1]\n",
    "        if state[loc_row - 1][loc_col - 1] == 0: action_list.remove('suck')\n",
    "        \n",
    "        return action_list \n",
    "    \n",
    "    def result(self, state, action):\n",
    "        location = state[1]\n",
    "        dim = np.sqrt(len(state[0])).astype(int)\n",
    "        state = np.array(state[0]).reshape(dim,dim)\n",
    "        loc_row, loc_col = location[0], location[1]\n",
    "\n",
    "        ## Note: up means increading the array rows\n",
    "        if action == 'suck': state[loc_row - 1][loc_col - 1] = 0\n",
    "        if action == 'up': loc_row -= 1\n",
    "        if action == 'down': loc_row += 1\n",
    "        if action == 'left': loc_col -= 1\n",
    "        if action == 'right': loc_col += 1\n",
    "        \n",
    "        \n",
    "        #if state[loc_row - 1][loc_col - 1] == 1:\n",
    "        #    state[loc_row - 1][loc_col - 1] = 0\n",
    "            \n",
    "        state = state.flatten()\n",
    "        location = (loc_row, loc_col)\n",
    "        \n",
    "        return (tuple(state), location)\n",
    "\n",
    "    def goal_test(self, state):\n",
    "        if isinstance(self.goal, list):\n",
    "            return is_in(state, self.goal)\n",
    "        else:\n",
    "            dim = np.sqrt(len(state[0])).astype(int)\n",
    "            return np.array_equal(np.array(state[0]).reshape(dim,dim), np.array(self.goal).reshape(dim,dim))"
   ]
  },
  {
   "cell_type": "code",
   "execution_count": 7,
   "metadata": {
    "collapsed": true
   },
   "outputs": [],
   "source": [
    "def print_solution(solution):\n",
    "    node, actions_executed = solution, []\n",
    "\n",
    "    while node.parent:\n",
    "        actions_executed.append((node, node.action))\n",
    "        node = node.parent\n",
    "\n",
    "    for n in actions_executed[::-1]:\n",
    "        print('    > Reached Node {} with action {}'.format(n[0], n[1]))\n",
    "\n",
    "def get_seq(solution):\n",
    "    node, actions_executed = solution, []\n",
    "    seq = []\n",
    "\n",
    "    while node.parent:\n",
    "        seq.insert(0, node.action)\n",
    "        node = node.parent\n",
    "\n",
    "    return seq "
   ]
  },
  {
   "cell_type": "code",
   "execution_count": 8,
   "metadata": {
    "collapsed": false
   },
   "outputs": [
    {
     "name": "stdout",
     "output_type": "stream",
     "text": [
      "Solution state:   <Node ((0, 0, 0, 0, 0, 0, 0, 0, 0), (1, 1))>\n",
      "Solution cost :   7\n"
     ]
    },
    {
     "ename": "AttributeError",
     "evalue": "'Node' object has no attribute '_ids'",
     "output_type": "error",
     "traceback": [
      "\u001b[0;31m---------------------------------------------------------------------------\u001b[0m",
      "\u001b[0;31mAttributeError\u001b[0m                            Traceback (most recent call last)",
      "\u001b[0;32m<ipython-input-8-b2b06a2f5110>\u001b[0m in \u001b[0;36m<module>\u001b[0;34m()\u001b[0m\n\u001b[1;32m     17\u001b[0m \u001b[0mprint\u001b[0m\u001b[0;34m(\u001b[0m\u001b[0;34m\"Solution state:  \"\u001b[0m\u001b[0;34m,\u001b[0m \u001b[0msolution\u001b[0m\u001b[0;34m)\u001b[0m\u001b[0;34m\u001b[0m\u001b[0m\n\u001b[1;32m     18\u001b[0m \u001b[0mprint\u001b[0m\u001b[0;34m(\u001b[0m\u001b[0;34m\"Solution cost :  \"\u001b[0m\u001b[0;34m,\u001b[0m \u001b[0msolution\u001b[0m\u001b[0;34m.\u001b[0m\u001b[0mpath_cost\u001b[0m\u001b[0;34m)\u001b[0m\u001b[0;34m\u001b[0m\u001b[0m\n\u001b[0;32m---> 19\u001b[0;31m \u001b[0mprint\u001b[0m\u001b[0;34m(\u001b[0m\u001b[0;34m\"Solution nodes:  \"\u001b[0m\u001b[0;34m,\u001b[0m \u001b[0msolution\u001b[0m\u001b[0;34m.\u001b[0m\u001b[0m_ids\u001b[0m\u001b[0;34m)\u001b[0m\u001b[0;34m\u001b[0m\u001b[0m\n\u001b[0m\u001b[1;32m     20\u001b[0m \u001b[0mprint\u001b[0m\u001b[0;34m(\u001b[0m\u001b[0;34m\"Solution path :  \"\u001b[0m\u001b[0;34m)\u001b[0m\u001b[0;34m\u001b[0m\u001b[0m\n\u001b[1;32m     21\u001b[0m \u001b[0mprint_solution\u001b[0m\u001b[0;34m(\u001b[0m\u001b[0msolution\u001b[0m\u001b[0;34m)\u001b[0m\u001b[0;34m\u001b[0m\u001b[0m\n",
      "\u001b[0;31mAttributeError\u001b[0m: 'Node' object has no attribute '_ids'"
     ]
    }
   ],
   "source": [
    "world = ((1, 1, 1, 0, 0, 0, 0, 0, 0),(2,2))\n",
    "goal  = (0,0,0,0,0,0,0,0,0)\n",
    "\n",
    "#world = (('dirty','dirty','dirty','clean','clean','clean','clean','clean','clean'),(2,2))\n",
    "#goal  = ('clean','clean','clean','clean','clean','clean','clean','clean','clean')\n",
    "\n",
    "problem = P(initial=world, goal=goal)\n",
    "#solution = breadth_first_tree_search(problem)\n",
    "#solution = depth_first_tree_search(problem)\n",
    "#solution = depth_first_graph_search(problem)\n",
    "#solution = breadth_first_graph_search(problem)\n",
    "#solution = uniform_cost_search(problem)\n",
    "#solution = depth_limited_search(problem, limit=50)\n",
    "#solution = iterative_deepening_search(problem)\n",
    "solution = best_first_graph_search(problem, lambda node: node.path_cost)\n",
    "\n",
    "print(\"Solution state:  \", solution)\n",
    "print(\"Solution cost :  \", solution.path_cost)\n",
    "print(\"Solution nodes:  \", solution._ids)\n",
    "print(\"Solution path :  \")\n",
    "print_solution(solution)"
   ]
  },
  {
   "cell_type": "markdown",
   "metadata": {},
   "source": [
    "<br>\n",
    "\n",
    "**TODO:**\n",
    "- List search performances here.\n",
    "- Nutshell: BFS Graph provides smallest space and optimal solution"
   ]
  },
  {
   "cell_type": "markdown",
   "metadata": {},
   "source": [
    "---\n",
    "<br>\n",
    "\n",
    "**3. Construct a search agent for the vacuum world, and evaluate its performance in a set of 3x3 worlds with probability 0.2 of dirt in each square. Include the search cost as well as path cost in the performance measure, using a reasonable exchange rate.**\n"
   ]
  },
  {
   "cell_type": "code",
   "execution_count": 10,
   "metadata": {
    "collapsed": true
   },
   "outputs": [],
   "source": [
    "class VacuumEnv(Environment):\n",
    "\n",
    "    \"\"\"This environment has NxN locations. Each can be Dirty (1)\n",
    "    or Clean (0). The agent perceives its location and the location's\n",
    "    status.\"\"\"\n",
    "\n",
    "    def __init__(self, dim, p_dirt=0.2):\n",
    "        super().__init__()\n",
    "        self.status = np.array([1 if random.uniform(0, 1) < p_dirt else 0 for i in range(0, dim*dim)]).reshape(dim, dim)\n",
    "\n",
    "    def thing_classes(self):\n",
    "        return [Wall, Dirt, ReflexVacuumAgent, RandomVacuumAgent,\n",
    "                TableDrivenVacuumAgent, ModelBasedVacuumAgent]\n",
    "\n",
    "    def percept(self, agent):\n",
    "        \"\"\"Returns the agent's location, and the location status (Dirty/Clean).\"\"\"\n",
    "        loc_row, loc_col = agent.location[0], agent.location[1]\n",
    "        return (agent.program.location, self.status[loc_row - 1][loc_col - 1])\n",
    "\n",
    "    def execute_action(self, agent, action):\n",
    "        \"\"\"Change agent's location and/or location's status; track performance.\n",
    "        Score 10 for each dirt cleaned; -1 for each move.\"\"\"\n",
    "        \n",
    "        loc_row, loc_col = agent.program.location[0], agent.program.location[1]\n",
    "        \n",
    "        print('  > {} in [{},{}]'.format(action, loc_row, loc_col))\n",
    "        if action == 'suck': \n",
    "            self.status[loc_row - 1][loc_col - 1] = 0\n",
    "            agent.performance += 10\n",
    "        elif action == 'up': loc_row -= 1\n",
    "        elif action == 'down': loc_row += 1\n",
    "        elif action == 'left': loc_col -= 1\n",
    "        elif action == 'right': loc_col += 1\n",
    "            \n",
    "        if action in ['up', 'down', 'left', 'right']: \n",
    "            agent.performance -= 1\n",
    "            \n",
    "        agent.program.location = (loc_row, loc_col)\n",
    "\n",
    "    def default_location(self, thing):\n",
    "        \"\"\"Agents start in either location at random.\"\"\"\n",
    "        #return random.choice([loc_A, loc_B])\n",
    "        return (1,1)\n",
    "\n",
    "    def is_done(self):\n",
    "        \"\"\"By default, we're done when we can't find a live agent.\"\"\"\n",
    "        #return not any(agent.is_alive() for agent in self.agents)\n",
    "        if self.status.sum() == 0: print('Done')\n",
    "        return self.status.sum() == 0\n",
    "\n",
    "    def step(self):\n",
    "        \"\"\"Run the environment for one time step. If the\n",
    "        actions and exogenous changes are independent, this method will\n",
    "        do. If there are interactions between them, you'll need to\n",
    "        override this method.\"\"\"\n",
    "        if not self.is_done():\n",
    "            actions = []\n",
    "            for agent in self.agents:\n",
    "                if agent.alive:\n",
    "                    # actions will only get the BEST action according to the search algorithm solution\n",
    "                    actions.append(agent.program(self.percept(agent)))\n",
    "                else:\n",
    "                    actions.append(\"\")\n",
    "            for (agent, action) in zip(self.agents, actions):\n",
    "                self.execute_action(agent, action)\n",
    "            self.exogenous_change()\n",
    "\n",
    "            \n",
    "class SimpleProblemSolvingAgentProgram:\n",
    "    \"\"\"Abstract framework for a problem-solving agent. [Figure 3.1]\"\"\"\n",
    "\n",
    "    def __init__(self, initial_state=None, location=None):\n",
    "        \"\"\"State is an abstract representation of the state\n",
    "        of the world, and seq is the list of actions required\n",
    "        to get to a particular state from the initial state(root).\"\"\"\n",
    "        self.state = initial_state\n",
    "        self.location = location\n",
    "        self.performance = 10\n",
    "        self.solution = None\n",
    "        self.seq = []\n",
    "\n",
    "    def __call__(self, percept):\n",
    "        \"\"\"[Figure 3.1] Formulate a goal and problem, then\n",
    "        search for a sequence of actions to solve it.\"\"\"\n",
    "        #self.state = self.update_state(self.state, percept)\n",
    "        if not self.seq:\n",
    "            goal = self.formulate_goal(self.state.shape[0])\n",
    "            problem = self.formulate_problem(self.state, goal)\n",
    "            self.seq = self.search(problem)\n",
    "            if not self.seq:\n",
    "                return None\n",
    "        return self.seq.pop(0)\n",
    "\n",
    "    def update_state(self, state, percept):\n",
    "        loc_row, loc_col = self.location[0], self.location[1]\n",
    "\n",
    "        ## Note: up means increading the array rows\n",
    "        #if percept == 'suck': self.perforance += 10\n",
    "        #if percept == 'up': self.perforance -= 1\n",
    "        #if percept == 'down': self.perforance -= 1\n",
    "        #if percept == 'left': self.perforance -= 1\n",
    "        #if percept == 'right': self.perforance -= 1\n",
    "            \n",
    "        self.location = (loc_row, loc_col)\n",
    "\n",
    "    def formulate_goal(self, state):\n",
    "        return np.array([0 for i in range(0, dim*dim)]).reshape(dim, dim)\n",
    "\n",
    "    def formulate_problem(self, state, goal):\n",
    "        return P(initial=(tuple(state.flatten()), tuple(self.location)), goal=goal)\n",
    "\n",
    "    def search(self, problem):\n",
    "        #self.solution = depth_first_graph_search(problem)\n",
    "        self.solution = best_first_graph_search(problem, lambda node: sum(node.state[0]))   # node.path_cost  sum(node.state[0])   self.status.sum()\n",
    "        seq = get_seq(self.solution)\n",
    "        print('  > Dude, this is my search/planning result: ', seq)\n",
    "        print('  >')\n",
    "        return seq"
   ]
  },
  {
   "cell_type": "code",
   "execution_count": 11,
   "metadata": {
    "collapsed": false
   },
   "outputs": [
    {
     "name": "stdout",
     "output_type": "stream",
     "text": [
      "Initial env status:\n",
      " [[0 0 0]\n",
      " [0 0 0]\n",
      " [1 1 0]]\n",
      "\n",
      "Let the cleaner loose:\n",
      "  > Dude, this is my search/planning result:  ['up', 'up', 'left', 'left', 'down', 'down', 'suck', 'right', 'suck']\n",
      "  >\n",
      "  > up in [3,3]\n",
      "  > up in [2,3]\n",
      "  > left in [1,3]\n",
      "  > left in [1,2]\n",
      "  > down in [1,1]\n",
      "  > down in [2,1]\n",
      "  > suck in [3,1]\n",
      "  > right in [3,1]\n",
      "  > suck in [3,2]\n",
      "Done\n",
      "\n",
      "Final env status:\n",
      " [[0 0 0]\n",
      " [0 0 0]\n",
      " [0 0 0]]\n",
      "\n",
      "Agent performance: 13\n",
      "Agent path cost  : 9\n"
     ]
    }
   ],
   "source": [
    "dim = 3\n",
    "env = VacuumEnv(dim, p_dirt=0.2)\n",
    "\n",
    "# Create the search agent\n",
    "search_agent = SimpleProblemSolvingAgentProgram(initial_state=env.status, location=[3,3])\n",
    "env.add_thing(search_agent)\n",
    "print('Initial env status:\\n', env.status)\n",
    "print('\\nLet the cleaner loose:')\n",
    "env.run(steps=100)\n",
    "\n",
    "\n",
    "print('\\nFinal env status:\\n', env.status)\n",
    "\n",
    "for agent in env.agents:\n",
    "    print('\\nAgent performance:', agent.performance)\n",
    "    print('Agent path cost  :', agent.program.solution.path_cost)"
   ]
  },
  {
   "cell_type": "markdown",
   "metadata": {},
   "source": [
    "---\n",
    "\n",
    "**4. Compare your best search agent with a simple randomized reflex agent that sucks if there is dirt and otherwise moves randomly.**"
   ]
  },
  {
   "cell_type": "code",
   "execution_count": null,
   "metadata": {
    "collapsed": true
   },
   "outputs": [],
   "source": []
  },
  {
   "cell_type": "markdown",
   "metadata": {},
   "source": [
    "**5. Consider what would happen if the world were enlarged to NxN.**"
   ]
  },
  {
   "cell_type": "code",
   "execution_count": 12,
   "metadata": {
    "collapsed": false
   },
   "outputs": [
    {
     "name": "stdout",
     "output_type": "stream",
     "text": [
      "Initial env status:\n",
      " [[0 1 1 0 1]\n",
      " [1 1 1 0 1]\n",
      " [1 0 1 1 1]\n",
      " [0 1 1 1 0]\n",
      " [1 0 1 1 1]]\n",
      "\n",
      "Let the cleaner loose:\n",
      "  > Dude, this is my search/planning result:  ['suck', 'up', 'suck', 'right', 'suck', 'right', 'right', 'suck', 'left', 'left', 'left', 'left', 'down', 'suck', 'up', 'right', 'right', 'down', 'suck', 'up', 'right', 'right', 'down', 'suck', 'up', 'left', 'left', 'left', 'left', 'down', 'down', 'suck', 'up', 'up', 'right', 'right', 'down', 'down', 'suck', 'right', 'suck', 'right', 'suck', 'up', 'up', 'left', 'left', 'left', 'down', 'down', 'down', 'suck', 'right', 'suck', 'right', 'suck', 'up', 'up', 'up', 'left', 'left', 'left', 'down', 'down', 'down', 'down', 'suck', 'up', 'up', 'up', 'up', 'right', 'right', 'down', 'down', 'down', 'down', 'suck', 'right', 'suck', 'right', 'suck']\n",
      "  >\n",
      "  > suck in [2,2]\n",
      "  > up in [2,2]\n",
      "  > suck in [1,2]\n",
      "  > right in [1,2]\n",
      "  > suck in [1,3]\n",
      "  > right in [1,3]\n",
      "  > right in [1,4]\n",
      "  > suck in [1,5]\n",
      "  > left in [1,5]\n",
      "  > left in [1,4]\n",
      "  > left in [1,3]\n",
      "  > left in [1,2]\n",
      "  > down in [1,1]\n",
      "  > suck in [2,1]\n",
      "  > up in [2,1]\n",
      "  > right in [1,1]\n",
      "  > right in [1,2]\n",
      "  > down in [1,3]\n",
      "  > suck in [2,3]\n",
      "  > up in [2,3]\n",
      "  > right in [1,3]\n",
      "  > right in [1,4]\n",
      "  > down in [1,5]\n",
      "  > suck in [2,5]\n",
      "  > up in [2,5]\n",
      "  > left in [1,5]\n",
      "  > left in [1,4]\n",
      "  > left in [1,3]\n",
      "  > left in [1,2]\n",
      "  > down in [1,1]\n",
      "  > down in [2,1]\n",
      "  > suck in [3,1]\n",
      "  > up in [3,1]\n",
      "  > up in [2,1]\n",
      "  > right in [1,1]\n",
      "  > right in [1,2]\n",
      "  > down in [1,3]\n",
      "  > down in [2,3]\n",
      "  > suck in [3,3]\n",
      "  > right in [3,3]\n",
      "  > suck in [3,4]\n",
      "  > right in [3,4]\n",
      "  > suck in [3,5]\n",
      "  > up in [3,5]\n",
      "  > up in [2,5]\n",
      "  > left in [1,5]\n",
      "  > left in [1,4]\n",
      "  > left in [1,3]\n",
      "  > down in [1,2]\n",
      "  > down in [2,2]\n",
      "  > down in [3,2]\n",
      "  > suck in [4,2]\n",
      "  > right in [4,2]\n",
      "  > suck in [4,3]\n",
      "  > right in [4,3]\n",
      "  > suck in [4,4]\n",
      "  > up in [4,4]\n",
      "  > up in [3,4]\n",
      "  > up in [2,4]\n",
      "  > left in [1,4]\n",
      "  > left in [1,3]\n",
      "  > left in [1,2]\n",
      "  > down in [1,1]\n",
      "  > down in [2,1]\n",
      "  > down in [3,1]\n",
      "  > down in [4,1]\n",
      "  > suck in [5,1]\n",
      "  > up in [5,1]\n",
      "  > up in [4,1]\n",
      "  > up in [3,1]\n",
      "  > up in [2,1]\n",
      "  > right in [1,1]\n",
      "  > right in [1,2]\n",
      "  > down in [1,3]\n",
      "  > down in [2,3]\n",
      "  > down in [3,3]\n",
      "  > down in [4,3]\n",
      "  > suck in [5,3]\n",
      "  > right in [5,3]\n",
      "  > suck in [5,4]\n",
      "  > right in [5,4]\n",
      "  > suck in [5,5]\n",
      "Done\n",
      "\n",
      "Final env status:\n",
      " [[0 0 0 0 0]\n",
      " [0 0 0 0 0]\n",
      " [0 0 0 0 0]\n",
      " [0 0 0 0 0]\n",
      " [0 0 0 0 0]]\n",
      "\n",
      "Agent performance: 116\n",
      "Agent path cost  : 82\n"
     ]
    }
   ],
   "source": [
    "dim = 5\n",
    "env = VacuumEnv(dim, p_dirt=0.5)\n",
    "\n",
    "# Create the search agent\n",
    "search_agent = SimpleProblemSolvingAgentProgram(initial_state=env.status, location=[2,2])\n",
    "env.add_thing(search_agent)\n",
    "print('Initial env status:\\n', env.status)\n",
    "print('\\nLet the cleaner loose:')\n",
    "env.run()\n",
    "\n",
    "\n",
    "print('\\nFinal env status:\\n', env.status)\n",
    "\n",
    "for agent in env.agents:\n",
    "    print('\\nAgent performance:', agent.performance)\n",
    "    print('Agent path cost  :', agent.program.solution.path_cost)"
   ]
  },
  {
   "cell_type": "markdown",
   "metadata": {},
   "source": [
    "<br>\n",
    "\n",
    "While **breadth first graph search** is capable of finding overall shorter solution paths to clean the environment, it takes exponentially more time and space in slighly increased environments, e.g. (4x4, 5x5, etc.).\n",
    "\n",
    "**depths first graph search** to find a solution path in acceptable time and then take a longer router to clean the environment.\n",
    "\n",
    "**best first search** finds shorter paths then **depths first graph search**, but also visits several locations multiple times.\n",
    "\n",
    "<br>\n",
    "\n",
    "**TODO:**\n",
    "Check how search state can be modified to avoid visiting same locations."
   ]
  },
  {
   "cell_type": "code",
   "execution_count": null,
   "metadata": {
    "collapsed": true
   },
   "outputs": [],
   "source": []
  },
  {
   "cell_type": "code",
   "execution_count": null,
   "metadata": {
    "collapsed": true
   },
   "outputs": [],
   "source": []
  }
 ],
 "metadata": {
  "kernelspec": {
   "display_name": "Python 3",
   "language": "python",
   "name": "python3"
  },
  "language_info": {
   "codemirror_mode": {
    "name": "ipython",
    "version": 3
   },
   "file_extension": ".py",
   "mimetype": "text/x-python",
   "name": "python",
   "nbconvert_exporter": "python",
   "pygments_lexer": "ipython3",
   "version": "3.6.0"
  }
 },
 "nbformat": 4,
 "nbformat_minor": 4
}
